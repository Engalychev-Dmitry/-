{
  "cells": [
    {
      "cell_type": "markdown",
      "metadata": {
        "id": "0PnTh-ajEoEb"
      },
      "source": [
        "Напишите свое ФИО:"
      ]
    },
    {
      "cell_type": "code",
      "execution_count": null,
      "metadata": {
        "id": "QyMVPjzWErHw"
      },
      "outputs": [],
      "source": [
        "Енгалычев Дмитрий"
      ]
    },
    {
      "cell_type": "markdown",
      "metadata": {
        "id": "HPwKiIA4EKO-"
      },
      "source": [
        "# Основы"
      ]
    },
    {
      "cell_type": "markdown",
      "metadata": {
        "id": "8po5IidFERZ8"
      },
      "source": [
        "Задание 1: Напиши программу, выводящую на экран сообщение \"Привет, мир!\""
      ]
    },
    {
      "cell_type": "code",
      "execution_count": null,
      "metadata": {
        "id": "sBRjlCVLEIQr"
      },
      "outputs": [],
      "source": [
        "print('Привет,мир!')"
      ]
    },
    {
      "cell_type": "markdown",
      "metadata": {
        "id": "pUQIIo94EYLg"
      },
      "source": [
        "Задание 2: Напиши программу которая запрашивает имя пользователя и выводит сообщение:\n",
        "\n",
        "`Привет, <Имя пользователя>`"
      ]
    },
    {
      "cell_type": "code",
      "execution_count": null,
      "metadata": {
        "colab": {
          "base_uri": "https://localhost:8080/"
        },
        "id": "nNwHKmAnEinH",
        "outputId": "cb5266cd-0f67-43b1-ffa0-36f531a398cf"
      },
      "outputs": [
        {
          "name": "stdout",
          "output_type": "stream",
          "text": [
            "dmitriy\n",
            "Привет, dmitriy\n"
          ]
        }
      ],
      "source": [
        "name = str(input())\n",
        "print('Привет, ' + name)"
      ]
    },
    {
      "cell_type": "markdown",
      "metadata": {
        "id": "SAUm9W6_Etkh"
      },
      "source": [
        "Задание 3: Напиши программу определяющую является ли число четным или нечетным:\n",
        "\n",
        "Пример:\n",
        "\n",
        "`Введите число:` 2\n",
        "\n",
        "`Ваше число четное!`"
      ]
    },
    {
      "cell_type": "code",
      "execution_count": null,
      "metadata": {
        "colab": {
          "base_uri": "https://localhost:8080/"
        },
        "id": "LXv7AIN1E4on",
        "outputId": "875689bc-bf6c-4a5e-f13d-b174af874c1a"
      },
      "outputs": [
        {
          "name": "stdout",
          "output_type": "stream",
          "text": [
            "4\n",
            "Ваше число четное!\n"
          ]
        }
      ],
      "source": [
        "a = input()\n",
        "if int(a) % 2 == 0:\n",
        " print('Ваше число четное!')\n",
        "else:\n",
        "    print('Ваше число нечетное!')\n"
      ]
    },
    {
      "cell_type": "markdown",
      "metadata": {
        "id": "OW1Y5KyUE_n9"
      },
      "source": [
        "Задание 4: Напишите программу которая запрашивает длинну и ширину прямоугольника и выводит его площадь:\n",
        "\n",
        "\n",
        "\n",
        "`Введите длинну прямоугольника:`\n",
        "\n",
        "`Введите ширину прямоугольника:`\n",
        "\n",
        "`Площадь прямоугольника: `\n",
        "\n"
      ]
    },
    {
      "cell_type": "code",
      "execution_count": null,
      "metadata": {
        "colab": {
          "base_uri": "https://localhost:8080/"
        },
        "id": "Bu5iawknFbXP",
        "outputId": "3ca74d7d-52e6-4ebb-f9a1-0ce8ddb72be2"
      },
      "outputs": [
        {
          "name": "stdout",
          "output_type": "stream",
          "text": [
            "Введите длинну прямоугольника:4\n",
            "Введите ширину прямоугольника:5\n",
            "Площадь прямоугольника:\n",
            "20\n"
          ]
        }
      ],
      "source": [
        "a = int(input('Введите длинну прямоугольника:'))\n",
        "b = int(input('Введите ширину прямоугольника:'))\n",
        "print('Площадь прямоугольника:')\n",
        "print(a*b)\n"
      ]
    },
    {
      "cell_type": "markdown",
      "metadata": {
        "id": "xj8_QNLsFfLw"
      },
      "source": [
        "Задание 5: Напишите программу, которая будет вычислять среднее арифметическое введенных чисел"
      ]
    },
    {
      "cell_type": "code",
      "execution_count": null,
      "metadata": {
        "colab": {
          "base_uri": "https://localhost:8080/"
        },
        "id": "omumX59JFoKw",
        "outputId": "7bba9bb9-74e3-4e50-c1e3-ade0e77d987f"
      },
      "outputs": [
        {
          "name": "stdout",
          "output_type": "stream",
          "text": [
            "Введите количество чисел:5\n",
            "Введите число:1\n",
            "Введите число:2\n",
            "Введите число:3\n",
            "Введите число:4\n",
            "Введите число:5\n",
            "3.0\n"
          ]
        }
      ],
      "source": [
        "list = []\n",
        "kolvo = int(input('Введите количество чисел:'))\n",
        "for a in range(0, kolvo):\n",
        "  list.append(int(input('Введите число:')))\n",
        "print(sum(list) / kolvo)\n",
        "\n"
      ]
    },
    {
      "cell_type": "markdown",
      "metadata": {
        "id": "XWBhGpdEFo-U"
      },
      "source": [
        "# Практика 0.2.1"
      ]
    },
    {
      "cell_type": "markdown",
      "metadata": {
        "id": "9Lw9odpqFwtn"
      },
      "source": [
        "**Шахматы**\n",
        "\n",
        "Даны стартовые и конечные координаты, а также фигура\n",
        "\n",
        "Необходимо определить, может ли заданная фигура так ходить?"
      ]
    },
    {
      "cell_type": "code",
      "execution_count": null,
      "metadata": {
        "colab": {
          "background_save": true,
          "base_uri": "https://localhost:8080/"
        },
        "id": "9IICo0p3F07P",
        "outputId": "69af29ad-5562-4cd9-b5fb-2b8db5d73a58"
      },
      "outputs": [
        {
          "ename": "KeyboardInterrupt",
          "evalue": "Interrupted by user",
          "output_type": "error",
          "traceback": [
            "\u001b[0;31m---------------------------------------------------------------------------\u001b[0m",
            "\u001b[0;31mKeyboardInterrupt\u001b[0m                         Traceback (most recent call last)",
            "\u001b[0;32m<ipython-input-4-3530a25e156b>\u001b[0m in \u001b[0;36m<cell line: 4>\u001b[0;34m()\u001b[0m\n\u001b[1;32m      2\u001b[0m \u001b[0my\u001b[0m \u001b[0;34m=\u001b[0m \u001b[0;34m'12345678'\u001b[0m\u001b[0;34m\u001b[0m\u001b[0;34m\u001b[0m\u001b[0m\n\u001b[1;32m      3\u001b[0m \u001b[0mfigur\u001b[0m \u001b[0;34m=\u001b[0m \u001b[0minput\u001b[0m\u001b[0;34m(\u001b[0m\u001b[0;34m'Фигура:'\u001b[0m\u001b[0;34m)\u001b[0m\u001b[0;34m\u001b[0m\u001b[0;34m\u001b[0m\u001b[0m\n\u001b[0;32m----> 4\u001b[0;31m \u001b[0mstart\u001b[0m \u001b[0;34m=\u001b[0m \u001b[0;34m(\u001b[0m\u001b[0minput\u001b[0m\u001b[0;34m(\u001b[0m\u001b[0;34m'Стартовые координаты:'\u001b[0m\u001b[0;34m)\u001b[0m\u001b[0;34m)\u001b[0m\u001b[0;34m\u001b[0m\u001b[0;34m\u001b[0m\u001b[0m\n\u001b[0m\u001b[1;32m      5\u001b[0m \u001b[0mend\u001b[0m \u001b[0;34m=\u001b[0m \u001b[0;34m(\u001b[0m\u001b[0minput\u001b[0m\u001b[0;34m(\u001b[0m\u001b[0;34m'Конечные координаты:'\u001b[0m\u001b[0;34m)\u001b[0m\u001b[0;34m)\u001b[0m\u001b[0;34m\u001b[0m\u001b[0;34m\u001b[0m\u001b[0m\n\u001b[1;32m      6\u001b[0m \u001b[0;32mif\u001b[0m \u001b[0mstart\u001b[0m\u001b[0;34m[\u001b[0m\u001b[0;36m0\u001b[0m\u001b[0;34m]\u001b[0m \u001b[0;32min\u001b[0m \u001b[0mx\u001b[0m \u001b[0;32mand\u001b[0m \u001b[0mstart\u001b[0m\u001b[0;34m[\u001b[0m\u001b[0;36m1\u001b[0m\u001b[0;34m]\u001b[0m \u001b[0;32min\u001b[0m \u001b[0my\u001b[0m \u001b[0;32mand\u001b[0m \u001b[0mend\u001b[0m\u001b[0;34m[\u001b[0m\u001b[0;36m0\u001b[0m\u001b[0;34m]\u001b[0m \u001b[0;32min\u001b[0m \u001b[0mx\u001b[0m \u001b[0;32mand\u001b[0m \u001b[0mend\u001b[0m\u001b[0;34m[\u001b[0m\u001b[0;36m1\u001b[0m\u001b[0;34m]\u001b[0m \u001b[0;32min\u001b[0m \u001b[0my\u001b[0m\u001b[0;34m:\u001b[0m\u001b[0;34m\u001b[0m\u001b[0;34m\u001b[0m\u001b[0m\n",
            "\u001b[0;32m/usr/local/lib/python3.10/dist-packages/ipykernel/kernelbase.py\u001b[0m in \u001b[0;36mraw_input\u001b[0;34m(self, prompt)\u001b[0m\n\u001b[1;32m    849\u001b[0m                 \u001b[0;34m\"raw_input was called, but this frontend does not support input requests.\"\u001b[0m\u001b[0;34m\u001b[0m\u001b[0;34m\u001b[0m\u001b[0m\n\u001b[1;32m    850\u001b[0m             )\n\u001b[0;32m--> 851\u001b[0;31m         return self._input_request(str(prompt),\n\u001b[0m\u001b[1;32m    852\u001b[0m             \u001b[0mself\u001b[0m\u001b[0;34m.\u001b[0m\u001b[0m_parent_ident\u001b[0m\u001b[0;34m,\u001b[0m\u001b[0;34m\u001b[0m\u001b[0;34m\u001b[0m\u001b[0m\n\u001b[1;32m    853\u001b[0m             \u001b[0mself\u001b[0m\u001b[0;34m.\u001b[0m\u001b[0m_parent_header\u001b[0m\u001b[0;34m,\u001b[0m\u001b[0;34m\u001b[0m\u001b[0;34m\u001b[0m\u001b[0m\n",
            "\u001b[0;32m/usr/local/lib/python3.10/dist-packages/ipykernel/kernelbase.py\u001b[0m in \u001b[0;36m_input_request\u001b[0;34m(self, prompt, ident, parent, password)\u001b[0m\n\u001b[1;32m    893\u001b[0m             \u001b[0;32mexcept\u001b[0m \u001b[0mKeyboardInterrupt\u001b[0m\u001b[0;34m:\u001b[0m\u001b[0;34m\u001b[0m\u001b[0;34m\u001b[0m\u001b[0m\n\u001b[1;32m    894\u001b[0m                 \u001b[0;31m# re-raise KeyboardInterrupt, to truncate traceback\u001b[0m\u001b[0;34m\u001b[0m\u001b[0;34m\u001b[0m\u001b[0m\n\u001b[0;32m--> 895\u001b[0;31m                 \u001b[0;32mraise\u001b[0m \u001b[0mKeyboardInterrupt\u001b[0m\u001b[0;34m(\u001b[0m\u001b[0;34m\"Interrupted by user\"\u001b[0m\u001b[0;34m)\u001b[0m \u001b[0;32mfrom\u001b[0m \u001b[0;32mNone\u001b[0m\u001b[0;34m\u001b[0m\u001b[0;34m\u001b[0m\u001b[0m\n\u001b[0m\u001b[1;32m    896\u001b[0m             \u001b[0;32mexcept\u001b[0m \u001b[0mException\u001b[0m \u001b[0;32mas\u001b[0m \u001b[0me\u001b[0m\u001b[0;34m:\u001b[0m\u001b[0;34m\u001b[0m\u001b[0;34m\u001b[0m\u001b[0m\n\u001b[1;32m    897\u001b[0m                 \u001b[0mself\u001b[0m\u001b[0;34m.\u001b[0m\u001b[0mlog\u001b[0m\u001b[0;34m.\u001b[0m\u001b[0mwarning\u001b[0m\u001b[0;34m(\u001b[0m\u001b[0;34m\"Invalid Message:\"\u001b[0m\u001b[0;34m,\u001b[0m \u001b[0mexc_info\u001b[0m\u001b[0;34m=\u001b[0m\u001b[0;32mTrue\u001b[0m\u001b[0;34m)\u001b[0m\u001b[0;34m\u001b[0m\u001b[0;34m\u001b[0m\u001b[0m\n",
            "\u001b[0;31mKeyboardInterrupt\u001b[0m: Interrupted by user"
          ]
        }
      ],
      "source": [
        "x = '12345678'\n",
        "y = '12345678'\n",
        "figur = input('Фигура:')\n",
        "start = input('Стартовые координаты:')\n",
        "end = (input('Конечные координаты:'))\n",
        "if start[0] in x and start[1] in y and end[0] in x and end[1] in y:\n",
        "  if figur == 'Конь' or 'конь':\n",
        "    if int(start[1]) == int(end[1]) + 1 and int(start[2]) == int(end[2]) + 2 or int(start[1]) == int(end[1]) - 1 and int(start[2]) == int(end[2]) + 2 or int(start[1]) == int(end[1]) + 1 and int(start[2]) == int(end[2]) - 2 or int(start[1]) == int(end[1]) - 1 and int(start[2]) == int(end[2]) - 2:\n",
        "      print('можно')\n",
        "    else:\n",
        "      print('незя')\n",
        "  if figur == 'Ладья' or 'ладья':\n",
        "    if start[1] == end[1] or start[2] == end[2]:\n",
        "       print('можно')\n",
        "    else:\n",
        "      print('незя')\n",
        "  if figur == 'Слон'or 'слон':\n",
        "    list = [11,22,33,44,55,66,77,88]\n",
        "    if abs(int(end) - int(start)) in list:\n",
        "      print('можно')\n",
        "    else:\n",
        "      print('нельзя')\n",
        "  if figur == 'Ферзь' or 'ферзь':\n",
        "    list = [11,22,33,44,55,66,77,88]\n",
        "    if abs(int(end) - int(start)) in list or start[1] == end[1] or start[2] == end[2]:\n",
        "      print('mojno')\n",
        "    else:\n",
        "      print('nezya')\n",
        "  if figur == 'Король' or 'король':\n",
        "    list = [10,11,1]\n",
        "    if abs(int(start) - int(end)) in list:\n",
        "      print('mojno')\n",
        "    else:\n",
        "      print('nelzya')\n",
        "  if figur == 'Пешка' or 'пешка':\n",
        "    if start[1] == end[1] and int(end[2]) - int(start[2]) == 1:\n",
        "      print('mojno')\n",
        "    else:\n",
        "      if int(start[2]) == int(end[2]) + 2 and int(start[1]) == int(end[1]):\n",
        "        print('mojno')\n",
        "      else:\n",
        "        print('nelzya')\n",
        "\n",
        "\n",
        "\n",
        "\n",
        "else:\n",
        "  print('Указаны неверные данные')\n",
        "\n",
        "\n",
        "\n",
        "\n",
        "\n",
        "\n"
      ]
    },
    {
      "cell_type": "markdown",
      "metadata": {
        "id": "wI5bLNpHGDmO"
      },
      "source": [
        "# Практика 0.2.2\n",
        "\n",
        "**Цифра на определенном месте:**\n",
        "\n",
        "Последовательно записан натуральный ряд чисел.\n",
        "\n",
        "Какая цифра стоит в N позиции"
      ]
    },
    {
      "cell_type": "code",
      "execution_count": null,
      "metadata": {
        "id": "XLm_zFGzGNsU"
      },
      "outputs": [],
      "source": []
    }
  ],
  "metadata": {
    "colab": {
      "provenance": []
    },
    "kernelspec": {
      "display_name": "Python 3",
      "name": "python3"
    },
    "language_info": {
      "name": "python"
    }
  },
  "nbformat": 4,
  "nbformat_minor": 0
}